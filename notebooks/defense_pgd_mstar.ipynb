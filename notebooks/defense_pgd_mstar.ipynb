{
 "cells": [
  {
   "cell_type": "markdown",
   "id": "0e153e8a",
   "metadata": {},
   "source": [
    "### Improving the Robustness of DNN-based SAR Automatic Target Recognition"
   ]
  }
 ],
 "metadata": {
  "language_info": {
   "name": "python"
  }
 },
 "nbformat": 4,
 "nbformat_minor": 5
}
